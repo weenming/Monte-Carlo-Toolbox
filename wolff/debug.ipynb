{
 "cells": [
  {
   "cell_type": "code",
   "execution_count": null,
   "metadata": {},
   "outputs": [],
   "source": [
    "%load_ext autoreload\n",
    "%autoreload 2\n",
    "import numpy as np\n",
    "import torch\n",
    "import matplotlib.pyplot as plt\n",
    "\n",
    "from monte_carlo import wolff_algorithm\n",
    "from xy_model import XYModel2DWolff\n",
    "from logger import Logger\n",
    "import pickle\n",
    "\n",
    "def show_spin(xy_model: XYModel2DWolff):\n",
    "    x, y = np.meshgrid(np.arange(xy_model.grid_size), np.arange(xy_model.grid_size))\n",
    "    spin = xy_model.get_spin()\n",
    "\n",
    "    fig, ax = plt.subplots(1, 1)\n",
    "    fig.set_size_inches(3, 3)\n",
    "    ax.quiver(x, y, spin.cos(), spin.sin())\n",
    "    ax.set_aspect(1)\n",
    "    ax.set_xticks([])\n",
    "    ax.set_yticks([])\n",
    "\n",
    "    return fig, ax\n",
    "\n",
    "def set_seed(seed):\n",
    "    torch.cuda.manual_seed(seed)\n",
    "    torch.manual_seed(seed)\n",
    "    np.random.seed(seed)\n",
    "\n",
    "get_M = lambda spin: (spin.cos().sum().square() + spin.sin().sum().square()).sqrt() / spin.size(0) ** 2"
   ]
  }
 ],
 "metadata": {
  "language_info": {
   "name": "python"
  }
 },
 "nbformat": 4,
 "nbformat_minor": 2
}
