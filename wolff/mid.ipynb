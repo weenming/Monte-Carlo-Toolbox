{
 "cells": [
  {
   "cell_type": "code",
   "execution_count": 24,
   "metadata": {},
   "outputs": [
    {
     "name": "stdout",
     "output_type": "stream",
     "text": [
      "The autoreload extension is already loaded. To reload it, use:\n",
      "  %reload_ext autoreload\n"
     ]
    }
   ],
   "source": [
    "%load_ext autoreload\n",
    "%autoreload 2\n",
    "\n",
    "import matplotlib.pyplot as plt\n",
    "import numpy as np\n",
    "import torch\n",
    "import pickle\n",
    "\n",
    "from ising_model import Ising2DWolff\n",
    "from monte_carlo import wolff_algorithm\n",
    "\n",
    "\n",
    "np.random.seed(0)\n",
    "torch.manual_seed(0)\n",
    "\n",
    "\n",
    "def run_exp(L, step_num, T):\n",
    "    ising = Ising2DWolff(L, )\n",
    "    logger = wolff_algorithm(ising, T, 1000, flip_all=False)\n",
    "    pickle.dump(logger, open(f'./save/2d_ising_model_L={L}_T={T}_step_num={step_num}.pkl', 'wb'))\n",
    "    return logger\n",
    "\n",
    "\n",
    "def load_logger(L, step_num, T):\n",
    "    logger = pickle.load(open(f'./save/2d_ising_model_L={L}_T={T}_step_num={step_num}.pkl', 'rb'))\n",
    "    return logger\n",
    "\n"
   ]
  },
  {
   "cell_type": "code",
   "execution_count": 31,
   "metadata": {
    "notebookRunGroups": {
     "groupValue": "2"
    }
   },
   "outputs": [
    {
     "name": "stderr",
     "output_type": "stream",
     "text": [
      "100%|██████████| 1000/1000 [00:11<00:00, 86.64it/s]\n"
     ]
    }
   ],
   "source": [
    "logger = run_exp(10, 1000, 2.1)\n",
    "fig, ax = plt.subplots(1, 1)\n",
    "ax.plot(logger.states[:, 0, :, :].mean((-1, -2)))"
   ]
  },
  {
   "cell_type": "code",
   "execution_count": 79,
   "metadata": {},
   "outputs": [
    {
     "name": "stderr",
     "output_type": "stream",
     "text": [
      "100%|██████████| 1000/1000 [00:02<00:00, 488.46it/s]\n",
      "100%|██████████| 1000/1000 [00:07<00:00, 127.35it/s]\n",
      "100%|██████████| 1000/1000 [00:31<00:00, 31.62it/s]\n",
      "100%|██████████| 1000/1000 [00:01<00:00, 505.95it/s]\n",
      "100%|██████████| 1000/1000 [00:07<00:00, 132.41it/s]\n",
      "100%|██████████| 1000/1000 [00:31<00:00, 32.11it/s]\n",
      "100%|██████████| 1000/1000 [00:02<00:00, 491.06it/s]\n",
      " 94%|█████████▍| 940/1000 [00:07<00:00, 126.56it/s]\n"
     ]
    },
    {
     "ename": "KeyboardInterrupt",
     "evalue": "",
     "output_type": "error",
     "traceback": [
      "\u001b[0;31m---------------------------------------------------------------------------\u001b[0m",
      "\u001b[0;31mKeyboardInterrupt\u001b[0m                         Traceback (most recent call last)",
      "\u001b[1;32m/Users/ruiqi/Library/CloudStorage/OneDrive-Personal/2023Fall/Statistical Physics 2/final_project/wolff/SIMMER/wolff/mid.ipynb Cell 3\u001b[0m line \u001b[0;36m5\n\u001b[1;32m      <a href='vscode-notebook-cell:/Users/ruiqi/Library/CloudStorage/OneDrive-Personal/2023Fall/Statistical%20Physics%202/final_project/wolff/SIMMER/wolff/mid.ipynb#W1sZmlsZQ%3D%3D?line=2'>3</a>\u001b[0m \u001b[39mfor\u001b[39;00m T \u001b[39min\u001b[39;00m np\u001b[39m.\u001b[39mlinspace(\u001b[39m1\u001b[39m, \u001b[39m3\u001b[39m, \u001b[39m100\u001b[39m):\n\u001b[1;32m      <a href='vscode-notebook-cell:/Users/ruiqi/Library/CloudStorage/OneDrive-Personal/2023Fall/Statistical%20Physics%202/final_project/wolff/SIMMER/wolff/mid.ipynb#W1sZmlsZQ%3D%3D?line=3'>4</a>\u001b[0m     \u001b[39mfor\u001b[39;00m L \u001b[39min\u001b[39;00m [\u001b[39m5\u001b[39m, \u001b[39m10\u001b[39m, \u001b[39m20\u001b[39m]:\n\u001b[0;32m----> <a href='vscode-notebook-cell:/Users/ruiqi/Library/CloudStorage/OneDrive-Personal/2023Fall/Statistical%20Physics%202/final_project/wolff/SIMMER/wolff/mid.ipynb#W1sZmlsZQ%3D%3D?line=4'>5</a>\u001b[0m         run_exp(L, \u001b[39m1000\u001b[39;49m, T)\n",
      "\u001b[1;32m/Users/ruiqi/Library/CloudStorage/OneDrive-Personal/2023Fall/Statistical Physics 2/final_project/wolff/SIMMER/wolff/mid.ipynb Cell 3\u001b[0m line \u001b[0;36m1\n\u001b[1;32m     <a href='vscode-notebook-cell:/Users/ruiqi/Library/CloudStorage/OneDrive-Personal/2023Fall/Statistical%20Physics%202/final_project/wolff/SIMMER/wolff/mid.ipynb#W1sZmlsZQ%3D%3D?line=16'>17</a>\u001b[0m \u001b[39mdef\u001b[39;00m \u001b[39mrun_exp\u001b[39m(L, step_num, T):\n\u001b[1;32m     <a href='vscode-notebook-cell:/Users/ruiqi/Library/CloudStorage/OneDrive-Personal/2023Fall/Statistical%20Physics%202/final_project/wolff/SIMMER/wolff/mid.ipynb#W1sZmlsZQ%3D%3D?line=17'>18</a>\u001b[0m     ising \u001b[39m=\u001b[39m Ising2DWolff(L, )\n\u001b[0;32m---> <a href='vscode-notebook-cell:/Users/ruiqi/Library/CloudStorage/OneDrive-Personal/2023Fall/Statistical%20Physics%202/final_project/wolff/SIMMER/wolff/mid.ipynb#W1sZmlsZQ%3D%3D?line=18'>19</a>\u001b[0m     logger \u001b[39m=\u001b[39m wolff_algorithm(ising, \u001b[39m1\u001b[39;49m, \u001b[39m1000\u001b[39;49m, flip_all\u001b[39m=\u001b[39;49m\u001b[39mFalse\u001b[39;49;00m)\n\u001b[1;32m     <a href='vscode-notebook-cell:/Users/ruiqi/Library/CloudStorage/OneDrive-Personal/2023Fall/Statistical%20Physics%202/final_project/wolff/SIMMER/wolff/mid.ipynb#W1sZmlsZQ%3D%3D?line=19'>20</a>\u001b[0m     pickle\u001b[39m.\u001b[39mdump(logger, \u001b[39mopen\u001b[39m(\u001b[39mf\u001b[39m\u001b[39m'\u001b[39m\u001b[39m./save/2d_ising_model_L=\u001b[39m\u001b[39m{\u001b[39;00mL\u001b[39m}\u001b[39;00m\u001b[39m_T=\u001b[39m\u001b[39m{\u001b[39;00mT\u001b[39m}\u001b[39;00m\u001b[39m_step_num=\u001b[39m\u001b[39m{\u001b[39;00mstep_num\u001b[39m}\u001b[39;00m\u001b[39m.pkl\u001b[39m\u001b[39m'\u001b[39m, \u001b[39m'\u001b[39m\u001b[39mwb\u001b[39m\u001b[39m'\u001b[39m))\n\u001b[1;32m     <a href='vscode-notebook-cell:/Users/ruiqi/Library/CloudStorage/OneDrive-Personal/2023Fall/Statistical%20Physics%202/final_project/wolff/SIMMER/wolff/mid.ipynb#W1sZmlsZQ%3D%3D?line=20'>21</a>\u001b[0m     \u001b[39mreturn\u001b[39;00m logger\n",
      "File \u001b[0;32m~/Library/CloudStorage/OneDrive-Personal/2023Fall/Statistical Physics 2/final_project/wolff/SIMMER/wolff/monte_carlo.py:47\u001b[0m, in \u001b[0;36mwolff_algorithm\u001b[0;34m(xy_model, temperature, num_steps, stamp_interval, logger, flip_all)\u001b[0m\n\u001b[1;32m     44\u001b[0m xy_model\u001b[39m.\u001b[39mupdate_bond(nW\u001b[39m=\u001b[39mnW, beta\u001b[39m=\u001b[39m\u001b[39m1\u001b[39m \u001b[39m/\u001b[39m temperature)\n\u001b[1;32m     46\u001b[0m \u001b[39m# select one cluster according to the bond\u001b[39;00m\n\u001b[0;32m---> 47\u001b[0m xy_model\u001b[39m.\u001b[39;49mflip(nW\u001b[39m=\u001b[39;49mnW, flip_one_cluster\u001b[39m=\u001b[39;49m\u001b[39mnot\u001b[39;49;00m flip_all)\n\u001b[1;32m     49\u001b[0m \u001b[39mif\u001b[39;00m step \u001b[39m%\u001b[39m stamp_interval \u001b[39m==\u001b[39m \u001b[39m0\u001b[39m:\n\u001b[1;32m     50\u001b[0m     logger\u001b[39m.\u001b[39mlog(step \u001b[39m+\u001b[39m step_offset, xy_model\u001b[39m.\u001b[39mget_state()\u001b[39m.\u001b[39mclone()\u001b[39m.\u001b[39mcpu())\n",
      "File \u001b[0;32m~/Library/CloudStorage/OneDrive-Personal/2023Fall/Statistical Physics 2/final_project/wolff/SIMMER/wolff/xy_model.py:134\u001b[0m, in \u001b[0;36mXYModel2DWolff.flip\u001b[0;34m(self, nW, flip_one_cluster)\u001b[0m\n\u001b[1;32m    124\u001b[0m \u001b[39m\u001b[39m\u001b[39m'''\u001b[39;00m\n\u001b[1;32m    125\u001b[0m \u001b[39mConstructs clusters based on the calculated bond, and then flips the\u001b[39;00m\n\u001b[1;32m    126\u001b[0m \u001b[39mspin w.r.t. the Wolff plane.\u001b[39;00m\n\u001b[0;32m   (...)\u001b[0m\n\u001b[1;32m    130\u001b[0m \u001b[39m    flip_one_cluster: if True, in each iteration, only flip one cluster.\u001b[39;00m\n\u001b[1;32m    131\u001b[0m \u001b[39m'''\u001b[39;00m\n\u001b[1;32m    133\u001b[0m \u001b[39mif\u001b[39;00m flip_one_cluster:\n\u001b[0;32m--> 134\u001b[0m     \u001b[39mself\u001b[39;49m\u001b[39m.\u001b[39;49mflip_one_cluster(nW)\n\u001b[1;32m    135\u001b[0m \u001b[39melse\u001b[39;00m:\n\u001b[1;32m    136\u001b[0m     \u001b[39mself\u001b[39m\u001b[39m.\u001b[39mflip_all_clusters(nW)\n",
      "File \u001b[0;32m~/Library/CloudStorage/OneDrive-Personal/2023Fall/Statistical Physics 2/final_project/wolff/SIMMER/wolff/xy_model.py:143\u001b[0m, in \u001b[0;36mXYModel2DWolff.flip_one_cluster\u001b[0;34m(self, nW, debug)\u001b[0m\n\u001b[1;32m    141\u001b[0m \u001b[39m# reset the used flag matrix before recursion\u001b[39;00m\n\u001b[1;32m    142\u001b[0m \u001b[39mself\u001b[39m\u001b[39m.\u001b[39m_tmp_in_cluster[\u001b[39m.\u001b[39m\u001b[39m.\u001b[39m\u001b[39m.\u001b[39m] \u001b[39m=\u001b[39m \u001b[39m0\u001b[39m\n\u001b[0;32m--> 143\u001b[0m \u001b[39mself\u001b[39;49m\u001b[39m.\u001b[39;49mbond_dfs(i, j)\n\u001b[1;32m    145\u001b[0m \u001b[39m# flip theta\u001b[39;00m\n\u001b[1;32m    146\u001b[0m \u001b[39mself\u001b[39m\u001b[39m.\u001b[39mstate[\u001b[39m0\u001b[39m] \u001b[39m=\u001b[39m \u001b[39mself\u001b[39m\u001b[39m.\u001b[39m_flip_func(\u001b[39mself\u001b[39m\u001b[39m.\u001b[39mstate[\u001b[39m0\u001b[39m], \u001b[39mself\u001b[39m\u001b[39m.\u001b[39m_tmp_in_cluster, nW)\n",
      "File \u001b[0;32m~/Library/CloudStorage/OneDrive-Personal/2023Fall/Statistical Physics 2/final_project/wolff/SIMMER/wolff/xy_model.py:192\u001b[0m, in \u001b[0;36mXYModel2DWolff.bond_dfs\u001b[0;34m(self, i, j)\u001b[0m\n\u001b[1;32m    184\u001b[0m \u001b[39m# try four different directions\u001b[39;00m\n\u001b[1;32m    186\u001b[0m \u001b[39mfor\u001b[39;00m i_neighbor, j_neighbor \u001b[39min\u001b[39;00m [\n\u001b[1;32m    187\u001b[0m     ((i \u001b[39m-\u001b[39m \u001b[39m1\u001b[39m) \u001b[39m%\u001b[39m \u001b[39mself\u001b[39m\u001b[39m.\u001b[39mgrid_size, j), \n\u001b[1;32m    188\u001b[0m     ((i \u001b[39m+\u001b[39m \u001b[39m1\u001b[39m) \u001b[39m%\u001b[39m \u001b[39mself\u001b[39m\u001b[39m.\u001b[39mgrid_size, j), \n\u001b[1;32m    189\u001b[0m     (i, (j \u001b[39m-\u001b[39m \u001b[39m1\u001b[39m) \u001b[39m%\u001b[39m \u001b[39mself\u001b[39m\u001b[39m.\u001b[39mgrid_size), \n\u001b[1;32m    190\u001b[0m     (i, (j \u001b[39m+\u001b[39m \u001b[39m1\u001b[39m) \u001b[39m%\u001b[39m \u001b[39mself\u001b[39m\u001b[39m.\u001b[39mgrid_size), \n\u001b[1;32m    191\u001b[0m ]:\n\u001b[0;32m--> 192\u001b[0m     \u001b[39mself\u001b[39;49m\u001b[39m.\u001b[39;49m_rec_neighbor(i, j, i_neighbor, j_neighbor)\n\u001b[1;32m    194\u001b[0m \u001b[39mif\u001b[39;00m \u001b[39mlen\u001b[39m(\u001b[39mself\u001b[39m\u001b[39m.\u001b[39m_tmp_bfs_stack) \u001b[39m==\u001b[39m \u001b[39m0\u001b[39m: \u001b[39m# end recursion\u001b[39;00m\n\u001b[1;32m    195\u001b[0m     \u001b[39mreturn\u001b[39;00m\n",
      "File \u001b[0;32m~/Library/CloudStorage/OneDrive-Personal/2023Fall/Statistical Physics 2/final_project/wolff/SIMMER/wolff/xy_model.py:210\u001b[0m, in \u001b[0;36mXYModel2DWolff._rec_neighbor\u001b[0;34m(self, i, j, i_n, j_n)\u001b[0m\n\u001b[1;32m    208\u001b[0m \u001b[39mself\u001b[39m\u001b[39m.\u001b[39m_tmp_in_cluster[i_n, j_n] \u001b[39m=\u001b[39m \u001b[39m1\u001b[39m\n\u001b[1;32m    209\u001b[0m \u001b[39mself\u001b[39m\u001b[39m.\u001b[39m_tmp_bfs_stack\u001b[39m.\u001b[39mappend((i_n, j_n))\n\u001b[0;32m--> 210\u001b[0m \u001b[39mreturn\u001b[39;00m \u001b[39mself\u001b[39;49m\u001b[39m.\u001b[39;49mbond_dfs(i_n, j_n)\n",
      "File \u001b[0;32m~/Library/CloudStorage/OneDrive-Personal/2023Fall/Statistical Physics 2/final_project/wolff/SIMMER/wolff/xy_model.py:192\u001b[0m, in \u001b[0;36mXYModel2DWolff.bond_dfs\u001b[0;34m(self, i, j)\u001b[0m\n\u001b[1;32m    184\u001b[0m \u001b[39m# try four different directions\u001b[39;00m\n\u001b[1;32m    186\u001b[0m \u001b[39mfor\u001b[39;00m i_neighbor, j_neighbor \u001b[39min\u001b[39;00m [\n\u001b[1;32m    187\u001b[0m     ((i \u001b[39m-\u001b[39m \u001b[39m1\u001b[39m) \u001b[39m%\u001b[39m \u001b[39mself\u001b[39m\u001b[39m.\u001b[39mgrid_size, j), \n\u001b[1;32m    188\u001b[0m     ((i \u001b[39m+\u001b[39m \u001b[39m1\u001b[39m) \u001b[39m%\u001b[39m \u001b[39mself\u001b[39m\u001b[39m.\u001b[39mgrid_size, j), \n\u001b[1;32m    189\u001b[0m     (i, (j \u001b[39m-\u001b[39m \u001b[39m1\u001b[39m) \u001b[39m%\u001b[39m \u001b[39mself\u001b[39m\u001b[39m.\u001b[39mgrid_size), \n\u001b[1;32m    190\u001b[0m     (i, (j \u001b[39m+\u001b[39m \u001b[39m1\u001b[39m) \u001b[39m%\u001b[39m \u001b[39mself\u001b[39m\u001b[39m.\u001b[39mgrid_size), \n\u001b[1;32m    191\u001b[0m ]:\n\u001b[0;32m--> 192\u001b[0m     \u001b[39mself\u001b[39;49m\u001b[39m.\u001b[39;49m_rec_neighbor(i, j, i_neighbor, j_neighbor)\n\u001b[1;32m    194\u001b[0m \u001b[39mif\u001b[39;00m \u001b[39mlen\u001b[39m(\u001b[39mself\u001b[39m\u001b[39m.\u001b[39m_tmp_bfs_stack) \u001b[39m==\u001b[39m \u001b[39m0\u001b[39m: \u001b[39m# end recursion\u001b[39;00m\n\u001b[1;32m    195\u001b[0m     \u001b[39mreturn\u001b[39;00m\n",
      "File \u001b[0;32m~/Library/CloudStorage/OneDrive-Personal/2023Fall/Statistical Physics 2/final_project/wolff/SIMMER/wolff/xy_model.py:210\u001b[0m, in \u001b[0;36mXYModel2DWolff._rec_neighbor\u001b[0;34m(self, i, j, i_n, j_n)\u001b[0m\n\u001b[1;32m    208\u001b[0m \u001b[39mself\u001b[39m\u001b[39m.\u001b[39m_tmp_in_cluster[i_n, j_n] \u001b[39m=\u001b[39m \u001b[39m1\u001b[39m\n\u001b[1;32m    209\u001b[0m \u001b[39mself\u001b[39m\u001b[39m.\u001b[39m_tmp_bfs_stack\u001b[39m.\u001b[39mappend((i_n, j_n))\n\u001b[0;32m--> 210\u001b[0m \u001b[39mreturn\u001b[39;00m \u001b[39mself\u001b[39;49m\u001b[39m.\u001b[39;49mbond_dfs(i_n, j_n)\n",
      "    \u001b[0;31m[... skipping similar frames: XYModel2DWolff._rec_neighbor at line 210 (51 times), XYModel2DWolff.bond_dfs at line 192 (51 times)]\u001b[0m\n",
      "File \u001b[0;32m~/Library/CloudStorage/OneDrive-Personal/2023Fall/Statistical Physics 2/final_project/wolff/SIMMER/wolff/xy_model.py:197\u001b[0m, in \u001b[0;36mXYModel2DWolff.bond_dfs\u001b[0;34m(self, i, j)\u001b[0m\n\u001b[1;32m    195\u001b[0m     \u001b[39mreturn\u001b[39;00m\n\u001b[1;32m    196\u001b[0m \u001b[39melse\u001b[39;00m:\n\u001b[0;32m--> 197\u001b[0m     \u001b[39mreturn\u001b[39;00m \u001b[39mself\u001b[39;49m\u001b[39m.\u001b[39;49mbond_dfs(\u001b[39m*\u001b[39;49m\u001b[39mself\u001b[39;49m\u001b[39m.\u001b[39;49m_tmp_bfs_stack\u001b[39m.\u001b[39;49mpop())\n",
      "File \u001b[0;32m~/Library/CloudStorage/OneDrive-Personal/2023Fall/Statistical Physics 2/final_project/wolff/SIMMER/wolff/xy_model.py:197\u001b[0m, in \u001b[0;36mXYModel2DWolff.bond_dfs\u001b[0;34m(self, i, j)\u001b[0m\n\u001b[1;32m    195\u001b[0m     \u001b[39mreturn\u001b[39;00m\n\u001b[1;32m    196\u001b[0m \u001b[39melse\u001b[39;00m:\n\u001b[0;32m--> 197\u001b[0m     \u001b[39mreturn\u001b[39;00m \u001b[39mself\u001b[39;49m\u001b[39m.\u001b[39;49mbond_dfs(\u001b[39m*\u001b[39;49m\u001b[39mself\u001b[39;49m\u001b[39m.\u001b[39;49m_tmp_bfs_stack\u001b[39m.\u001b[39;49mpop())\n",
      "    \u001b[0;31m[... skipping similar frames: XYModel2DWolff.bond_dfs at line 197 (68 times), XYModel2DWolff._rec_neighbor at line 210 (46 times), XYModel2DWolff.bond_dfs at line 192 (46 times)]\u001b[0m\n",
      "File \u001b[0;32m~/Library/CloudStorage/OneDrive-Personal/2023Fall/Statistical Physics 2/final_project/wolff/SIMMER/wolff/xy_model.py:192\u001b[0m, in \u001b[0;36mXYModel2DWolff.bond_dfs\u001b[0;34m(self, i, j)\u001b[0m\n\u001b[1;32m    184\u001b[0m \u001b[39m# try four different directions\u001b[39;00m\n\u001b[1;32m    186\u001b[0m \u001b[39mfor\u001b[39;00m i_neighbor, j_neighbor \u001b[39min\u001b[39;00m [\n\u001b[1;32m    187\u001b[0m     ((i \u001b[39m-\u001b[39m \u001b[39m1\u001b[39m) \u001b[39m%\u001b[39m \u001b[39mself\u001b[39m\u001b[39m.\u001b[39mgrid_size, j), \n\u001b[1;32m    188\u001b[0m     ((i \u001b[39m+\u001b[39m \u001b[39m1\u001b[39m) \u001b[39m%\u001b[39m \u001b[39mself\u001b[39m\u001b[39m.\u001b[39mgrid_size, j), \n\u001b[1;32m    189\u001b[0m     (i, (j \u001b[39m-\u001b[39m \u001b[39m1\u001b[39m) \u001b[39m%\u001b[39m \u001b[39mself\u001b[39m\u001b[39m.\u001b[39mgrid_size), \n\u001b[1;32m    190\u001b[0m     (i, (j \u001b[39m+\u001b[39m \u001b[39m1\u001b[39m) \u001b[39m%\u001b[39m \u001b[39mself\u001b[39m\u001b[39m.\u001b[39mgrid_size), \n\u001b[1;32m    191\u001b[0m ]:\n\u001b[0;32m--> 192\u001b[0m     \u001b[39mself\u001b[39;49m\u001b[39m.\u001b[39;49m_rec_neighbor(i, j, i_neighbor, j_neighbor)\n\u001b[1;32m    194\u001b[0m \u001b[39mif\u001b[39;00m \u001b[39mlen\u001b[39m(\u001b[39mself\u001b[39m\u001b[39m.\u001b[39m_tmp_bfs_stack) \u001b[39m==\u001b[39m \u001b[39m0\u001b[39m: \u001b[39m# end recursion\u001b[39;00m\n\u001b[1;32m    195\u001b[0m     \u001b[39mreturn\u001b[39;00m\n",
      "File \u001b[0;32m~/Library/CloudStorage/OneDrive-Personal/2023Fall/Statistical Physics 2/final_project/wolff/SIMMER/wolff/xy_model.py:210\u001b[0m, in \u001b[0;36mXYModel2DWolff._rec_neighbor\u001b[0;34m(self, i, j, i_n, j_n)\u001b[0m\n\u001b[1;32m    208\u001b[0m \u001b[39mself\u001b[39m\u001b[39m.\u001b[39m_tmp_in_cluster[i_n, j_n] \u001b[39m=\u001b[39m \u001b[39m1\u001b[39m\n\u001b[1;32m    209\u001b[0m \u001b[39mself\u001b[39m\u001b[39m.\u001b[39m_tmp_bfs_stack\u001b[39m.\u001b[39mappend((i_n, j_n))\n\u001b[0;32m--> 210\u001b[0m \u001b[39mreturn\u001b[39;00m \u001b[39mself\u001b[39;49m\u001b[39m.\u001b[39;49mbond_dfs(i_n, j_n)\n",
      "    \u001b[0;31m[... skipping similar frames: XYModel2DWolff.bond_dfs at line 197 (19 times)]\u001b[0m\n",
      "File \u001b[0;32m~/Library/CloudStorage/OneDrive-Personal/2023Fall/Statistical Physics 2/final_project/wolff/SIMMER/wolff/xy_model.py:197\u001b[0m, in \u001b[0;36mXYModel2DWolff.bond_dfs\u001b[0;34m(self, i, j)\u001b[0m\n\u001b[1;32m    195\u001b[0m     \u001b[39mreturn\u001b[39;00m\n\u001b[1;32m    196\u001b[0m \u001b[39melse\u001b[39;00m:\n\u001b[0;32m--> 197\u001b[0m     \u001b[39mreturn\u001b[39;00m \u001b[39mself\u001b[39;49m\u001b[39m.\u001b[39;49mbond_dfs(\u001b[39m*\u001b[39;49m\u001b[39mself\u001b[39;49m\u001b[39m.\u001b[39;49m_tmp_bfs_stack\u001b[39m.\u001b[39;49mpop())\n",
      "File \u001b[0;32m~/Library/CloudStorage/OneDrive-Personal/2023Fall/Statistical Physics 2/final_project/wolff/SIMMER/wolff/xy_model.py:187\u001b[0m, in \u001b[0;36mXYModel2DWolff.bond_dfs\u001b[0;34m(self, i, j)\u001b[0m\n\u001b[1;32m    181\u001b[0m \u001b[39m\u001b[39m\u001b[39m'''\u001b[39;00m\n\u001b[1;32m    182\u001b[0m \u001b[39mDepth first search given initial i and j. Use \u001b[39;00m\n\u001b[1;32m    183\u001b[0m \u001b[39m'''\u001b[39;00m\n\u001b[1;32m    184\u001b[0m \u001b[39m# try four different directions\u001b[39;00m\n\u001b[1;32m    186\u001b[0m \u001b[39mfor\u001b[39;00m i_neighbor, j_neighbor \u001b[39min\u001b[39;00m [\n\u001b[0;32m--> 187\u001b[0m     ((i \u001b[39m-\u001b[39;49m \u001b[39m1\u001b[39;49m) \u001b[39m%\u001b[39;49m \u001b[39mself\u001b[39;49m\u001b[39m.\u001b[39;49mgrid_size, j), \n\u001b[1;32m    188\u001b[0m     ((i \u001b[39m+\u001b[39m \u001b[39m1\u001b[39m) \u001b[39m%\u001b[39m \u001b[39mself\u001b[39m\u001b[39m.\u001b[39mgrid_size, j), \n\u001b[1;32m    189\u001b[0m     (i, (j \u001b[39m-\u001b[39m \u001b[39m1\u001b[39m) \u001b[39m%\u001b[39m \u001b[39mself\u001b[39m\u001b[39m.\u001b[39mgrid_size), \n\u001b[1;32m    190\u001b[0m     (i, (j \u001b[39m+\u001b[39m \u001b[39m1\u001b[39m) \u001b[39m%\u001b[39m \u001b[39mself\u001b[39m\u001b[39m.\u001b[39mgrid_size), \n\u001b[1;32m    191\u001b[0m ]:\n\u001b[1;32m    192\u001b[0m     \u001b[39mself\u001b[39m\u001b[39m.\u001b[39m_rec_neighbor(i, j, i_neighbor, j_neighbor)\n\u001b[1;32m    194\u001b[0m \u001b[39mif\u001b[39;00m \u001b[39mlen\u001b[39m(\u001b[39mself\u001b[39m\u001b[39m.\u001b[39m_tmp_bfs_stack) \u001b[39m==\u001b[39m \u001b[39m0\u001b[39m: \u001b[39m# end recursion\u001b[39;00m\n",
      "\u001b[0;31mKeyboardInterrupt\u001b[0m: "
     ]
    }
   ],
   "source": [
    "# run and save\n",
    "\n",
    "for T in np.linspace(1, 3, 100):\n",
    "    for L in [5, 10, 20]:\n",
    "        run_exp(L, 1000, T)"
   ]
  },
  {
   "cell_type": "code",
   "execution_count": null,
   "metadata": {},
   "outputs": [],
   "source": [
    "\n"
   ]
  }
 ],
 "metadata": {
  "kernelspec": {
   "display_name": "gnn",
   "language": "python",
   "name": "python3"
  },
  "language_info": {
   "codemirror_mode": {
    "name": "ipython",
    "version": 3
   },
   "file_extension": ".py",
   "mimetype": "text/x-python",
   "name": "python",
   "nbconvert_exporter": "python",
   "pygments_lexer": "ipython3",
   "version": "3.9.17"
  }
 },
 "nbformat": 4,
 "nbformat_minor": 2
}
