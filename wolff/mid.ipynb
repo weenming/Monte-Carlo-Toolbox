{
 "cells": [
  {
   "cell_type": "code",
   "execution_count": 66,
   "metadata": {},
   "outputs": [
    {
     "name": "stdout",
     "output_type": "stream",
     "text": [
      "The autoreload extension is already loaded. To reload it, use:\n",
      "  %reload_ext autoreload\n"
     ]
    }
   ],
   "source": [
    "%load_ext autoreload\n",
    "%autoreload 2\n",
    "\n",
    "import matplotlib.pyplot as plt\n",
    "import numpy as np\n",
    "import torch\n",
    "import pickle\n",
    "\n",
    "from ising_model import Ising2DWolff\n",
    "from monte_carlo import wolff_algorithm\n",
    "\n",
    "\n",
    "np.random.seed(0)\n",
    "torch.manual_seed(0)\n",
    "\n",
    "L = 20\n"
   ]
  },
  {
   "cell_type": "code",
   "execution_count": 67,
   "metadata": {},
   "outputs": [
    {
     "name": "stderr",
     "output_type": "stream",
     "text": [
      "100%|██████████| 1000/1000 [00:01<00:00, 742.43it/s]\n",
      "100%|██████████| 1000/1000 [00:05<00:00, 191.94it/s]\n",
      "100%|██████████| 1000/1000 [00:21<00:00, 47.13it/s]\n",
      "100%|██████████| 1000/1000 [00:01<00:00, 759.58it/s]\n",
      "100%|██████████| 1000/1000 [00:05<00:00, 197.91it/s]\n",
      "100%|██████████| 1000/1000 [00:21<00:00, 46.49it/s]\n",
      "100%|██████████| 1000/1000 [00:01<00:00, 748.42it/s]\n",
      "100%|██████████| 1000/1000 [00:05<00:00, 199.35it/s]\n",
      "100%|██████████| 1000/1000 [00:20<00:00, 49.67it/s]\n",
      "100%|██████████| 1000/1000 [00:01<00:00, 750.01it/s]\n",
      "100%|██████████| 1000/1000 [00:04<00:00, 201.03it/s]\n",
      "100%|██████████| 1000/1000 [00:19<00:00, 50.10it/s]\n",
      "100%|██████████| 1000/1000 [00:01<00:00, 753.49it/s]\n",
      "100%|██████████| 1000/1000 [00:05<00:00, 199.28it/s]\n",
      "100%|██████████| 1000/1000 [00:20<00:00, 49.62it/s]\n",
      "100%|██████████| 1000/1000 [00:01<00:00, 735.79it/s]\n",
      "100%|██████████| 1000/1000 [00:05<00:00, 198.22it/s]\n",
      " 40%|████      | 403/1000 [00:08<00:12, 49.45it/s]\n"
     ]
    },
    {
     "ename": "KeyboardInterrupt",
     "evalue": "",
     "output_type": "error",
     "traceback": [
      "\u001b[0;31m---------------------------------------------------------------------------\u001b[0m",
      "\u001b[0;31mKeyboardInterrupt\u001b[0m                         Traceback (most recent call last)",
      "\u001b[1;32m/Users/ruiqi/Library/CloudStorage/OneDrive-Personal/2023Fall/Statistical Physics 2/final_project/wolff/SIMMER/wolff/mid.ipynb Cell 2\u001b[0m line \u001b[0;36m1\n\u001b[1;32m      <a href='vscode-notebook-cell:/Users/ruiqi/Library/CloudStorage/OneDrive-Personal/2023Fall/Statistical%20Physics%202/final_project/wolff/SIMMER/wolff/mid.ipynb#W1sZmlsZQ%3D%3D?line=8'>9</a>\u001b[0m \u001b[39mfor\u001b[39;00m T \u001b[39min\u001b[39;00m np\u001b[39m.\u001b[39mlinspace(\u001b[39m0.1\u001b[39m, \u001b[39m2\u001b[39m, \u001b[39m100\u001b[39m):\n\u001b[1;32m     <a href='vscode-notebook-cell:/Users/ruiqi/Library/CloudStorage/OneDrive-Personal/2023Fall/Statistical%20Physics%202/final_project/wolff/SIMMER/wolff/mid.ipynb#W1sZmlsZQ%3D%3D?line=9'>10</a>\u001b[0m     \u001b[39mfor\u001b[39;00m L \u001b[39min\u001b[39;00m [\u001b[39m5\u001b[39m, \u001b[39m10\u001b[39m, \u001b[39m20\u001b[39m]:\n\u001b[0;32m---> <a href='vscode-notebook-cell:/Users/ruiqi/Library/CloudStorage/OneDrive-Personal/2023Fall/Statistical%20Physics%202/final_project/wolff/SIMMER/wolff/mid.ipynb#W1sZmlsZQ%3D%3D?line=10'>11</a>\u001b[0m         run_exp(L, \u001b[39m1000\u001b[39;49m, T)\n",
      "\u001b[1;32m/Users/ruiqi/Library/CloudStorage/OneDrive-Personal/2023Fall/Statistical Physics 2/final_project/wolff/SIMMER/wolff/mid.ipynb Cell 2\u001b[0m line \u001b[0;36m5\n\u001b[1;32m      <a href='vscode-notebook-cell:/Users/ruiqi/Library/CloudStorage/OneDrive-Personal/2023Fall/Statistical%20Physics%202/final_project/wolff/SIMMER/wolff/mid.ipynb#W1sZmlsZQ%3D%3D?line=2'>3</a>\u001b[0m \u001b[39mdef\u001b[39;00m \u001b[39mrun_exp\u001b[39m(L, step_num, T):\n\u001b[1;32m      <a href='vscode-notebook-cell:/Users/ruiqi/Library/CloudStorage/OneDrive-Personal/2023Fall/Statistical%20Physics%202/final_project/wolff/SIMMER/wolff/mid.ipynb#W1sZmlsZQ%3D%3D?line=3'>4</a>\u001b[0m     ising \u001b[39m=\u001b[39m Ising2DWolff(L, )\n\u001b[0;32m----> <a href='vscode-notebook-cell:/Users/ruiqi/Library/CloudStorage/OneDrive-Personal/2023Fall/Statistical%20Physics%202/final_project/wolff/SIMMER/wolff/mid.ipynb#W1sZmlsZQ%3D%3D?line=4'>5</a>\u001b[0m     logger \u001b[39m=\u001b[39m wolff_algorithm(ising, \u001b[39m1\u001b[39;49m, \u001b[39m1000\u001b[39;49m, flip_all\u001b[39m=\u001b[39;49m\u001b[39mFalse\u001b[39;49;00m)\n\u001b[1;32m      <a href='vscode-notebook-cell:/Users/ruiqi/Library/CloudStorage/OneDrive-Personal/2023Fall/Statistical%20Physics%202/final_project/wolff/SIMMER/wolff/mid.ipynb#W1sZmlsZQ%3D%3D?line=5'>6</a>\u001b[0m     pickle\u001b[39m.\u001b[39mdump(logger, \u001b[39mopen\u001b[39m(\u001b[39mf\u001b[39m\u001b[39m'\u001b[39m\u001b[39m./save/2d_ising_model_L=\u001b[39m\u001b[39m{\u001b[39;00mL\u001b[39m}\u001b[39;00m\u001b[39m_T=\u001b[39m\u001b[39m{\u001b[39;00mT\u001b[39m}\u001b[39;00m\u001b[39m_step_num=\u001b[39m\u001b[39m{\u001b[39;00mstep_num\u001b[39m}\u001b[39;00m\u001b[39m.pkl\u001b[39m\u001b[39m'\u001b[39m, \u001b[39m'\u001b[39m\u001b[39mwb\u001b[39m\u001b[39m'\u001b[39m))\n\u001b[1;32m      <a href='vscode-notebook-cell:/Users/ruiqi/Library/CloudStorage/OneDrive-Personal/2023Fall/Statistical%20Physics%202/final_project/wolff/SIMMER/wolff/mid.ipynb#W1sZmlsZQ%3D%3D?line=6'>7</a>\u001b[0m     \u001b[39mreturn\u001b[39;00m logger\n",
      "File \u001b[0;32m~/Library/CloudStorage/OneDrive-Personal/2023Fall/Statistical Physics 2/final_project/wolff/SIMMER/wolff/monte_carlo.py:47\u001b[0m, in \u001b[0;36mwolff_algorithm\u001b[0;34m(xy_model, temperature, num_steps, stamp_interval, logger, flip_all)\u001b[0m\n\u001b[1;32m     44\u001b[0m xy_model\u001b[39m.\u001b[39mupdate_bond(nW\u001b[39m=\u001b[39mnW, beta\u001b[39m=\u001b[39m\u001b[39m1\u001b[39m \u001b[39m/\u001b[39m temperature)\n\u001b[1;32m     46\u001b[0m \u001b[39m# select one cluster according to the bond\u001b[39;00m\n\u001b[0;32m---> 47\u001b[0m xy_model\u001b[39m.\u001b[39;49mflip(nW\u001b[39m=\u001b[39;49mnW, flip_one_cluster\u001b[39m=\u001b[39;49m\u001b[39mnot\u001b[39;49;00m flip_all)\n\u001b[1;32m     49\u001b[0m \u001b[39mif\u001b[39;00m step \u001b[39m%\u001b[39m stamp_interval \u001b[39m==\u001b[39m \u001b[39m0\u001b[39m:\n\u001b[1;32m     50\u001b[0m     logger\u001b[39m.\u001b[39mlog(step \u001b[39m+\u001b[39m step_offset, xy_model\u001b[39m.\u001b[39mget_state()\u001b[39m.\u001b[39mclone()\u001b[39m.\u001b[39mcpu())\n",
      "File \u001b[0;32m~/Library/CloudStorage/OneDrive-Personal/2023Fall/Statistical Physics 2/final_project/wolff/SIMMER/wolff/xy_model.py:134\u001b[0m, in \u001b[0;36mXYModel2DWolff.flip\u001b[0;34m(self, nW, flip_one_cluster)\u001b[0m\n\u001b[1;32m    124\u001b[0m \u001b[39m\u001b[39m\u001b[39m'''\u001b[39;00m\n\u001b[1;32m    125\u001b[0m \u001b[39mConstructs clusters based on the calculated bond, and then flips the\u001b[39;00m\n\u001b[1;32m    126\u001b[0m \u001b[39mspin w.r.t. the Wolff plane.\u001b[39;00m\n\u001b[0;32m   (...)\u001b[0m\n\u001b[1;32m    130\u001b[0m \u001b[39m    flip_one_cluster: if True, in each iteration, only flip one cluster.\u001b[39;00m\n\u001b[1;32m    131\u001b[0m \u001b[39m'''\u001b[39;00m\n\u001b[1;32m    133\u001b[0m \u001b[39mif\u001b[39;00m flip_one_cluster:\n\u001b[0;32m--> 134\u001b[0m     \u001b[39mself\u001b[39;49m\u001b[39m.\u001b[39;49mflip_one_cluster(nW)\n\u001b[1;32m    135\u001b[0m \u001b[39melse\u001b[39;00m:\n\u001b[1;32m    136\u001b[0m     \u001b[39mself\u001b[39m\u001b[39m.\u001b[39mflip_all_clusters(nW)\n",
      "File \u001b[0;32m~/Library/CloudStorage/OneDrive-Personal/2023Fall/Statistical Physics 2/final_project/wolff/SIMMER/wolff/xy_model.py:143\u001b[0m, in \u001b[0;36mXYModel2DWolff.flip_one_cluster\u001b[0;34m(self, nW, debug)\u001b[0m\n\u001b[1;32m    141\u001b[0m \u001b[39m# reset the used flag matrix before recursion\u001b[39;00m\n\u001b[1;32m    142\u001b[0m \u001b[39mself\u001b[39m\u001b[39m.\u001b[39m_tmp_in_cluster[\u001b[39m.\u001b[39m\u001b[39m.\u001b[39m\u001b[39m.\u001b[39m] \u001b[39m=\u001b[39m \u001b[39m0\u001b[39m\n\u001b[0;32m--> 143\u001b[0m \u001b[39mself\u001b[39;49m\u001b[39m.\u001b[39;49mbond_dfs(i, j)\n\u001b[1;32m    145\u001b[0m \u001b[39m# flip theta\u001b[39;00m\n\u001b[1;32m    146\u001b[0m \u001b[39mself\u001b[39m\u001b[39m.\u001b[39mstate[\u001b[39m0\u001b[39m] \u001b[39m=\u001b[39m \u001b[39mself\u001b[39m\u001b[39m.\u001b[39m_flip_func(\u001b[39mself\u001b[39m\u001b[39m.\u001b[39mstate[\u001b[39m0\u001b[39m], \u001b[39mself\u001b[39m\u001b[39m.\u001b[39m_tmp_in_cluster, nW)\n",
      "File \u001b[0;32m~/Library/CloudStorage/OneDrive-Personal/2023Fall/Statistical Physics 2/final_project/wolff/SIMMER/wolff/xy_model.py:192\u001b[0m, in \u001b[0;36mXYModel2DWolff.bond_dfs\u001b[0;34m(self, i, j)\u001b[0m\n\u001b[1;32m    184\u001b[0m \u001b[39m# try four different directions\u001b[39;00m\n\u001b[1;32m    186\u001b[0m \u001b[39mfor\u001b[39;00m i_neighbor, j_neighbor, hor_ver \u001b[39min\u001b[39;00m [\n\u001b[1;32m    187\u001b[0m     ((i \u001b[39m-\u001b[39m \u001b[39m1\u001b[39m) \u001b[39m%\u001b[39m \u001b[39mself\u001b[39m\u001b[39m.\u001b[39mgrid_size, j, \u001b[39m0\u001b[39m), \n\u001b[1;32m    188\u001b[0m     ((i \u001b[39m+\u001b[39m \u001b[39m1\u001b[39m) \u001b[39m%\u001b[39m \u001b[39mself\u001b[39m\u001b[39m.\u001b[39mgrid_size, j, \u001b[39m0\u001b[39m), \n\u001b[1;32m    189\u001b[0m     (i, (j \u001b[39m-\u001b[39m \u001b[39m1\u001b[39m) \u001b[39m%\u001b[39m \u001b[39mself\u001b[39m\u001b[39m.\u001b[39mgrid_size, \u001b[39m1\u001b[39m), \n\u001b[1;32m    190\u001b[0m     (i, (j \u001b[39m+\u001b[39m \u001b[39m1\u001b[39m) \u001b[39m%\u001b[39m \u001b[39mself\u001b[39m\u001b[39m.\u001b[39mgrid_size, \u001b[39m1\u001b[39m), \n\u001b[1;32m    191\u001b[0m ]:\n\u001b[0;32m--> 192\u001b[0m     \u001b[39mself\u001b[39;49m\u001b[39m.\u001b[39;49m_rec_neighbor(i_neighbor, j_neighbor, hor_ver)\n\u001b[1;32m    194\u001b[0m \u001b[39mif\u001b[39;00m \u001b[39mlen\u001b[39m(\u001b[39mself\u001b[39m\u001b[39m.\u001b[39m_tmp_bfs_stack) \u001b[39m==\u001b[39m \u001b[39m0\u001b[39m: \u001b[39m# end recursion\u001b[39;00m\n\u001b[1;32m    195\u001b[0m     \u001b[39mreturn\u001b[39;00m\n",
      "File \u001b[0;32m~/Library/CloudStorage/OneDrive-Personal/2023Fall/Statistical Physics 2/final_project/wolff/SIMMER/wolff/xy_model.py:207\u001b[0m, in \u001b[0;36mXYModel2DWolff._rec_neighbor\u001b[0;34m(self, i, j, hor_ver)\u001b[0m\n\u001b[1;32m    205\u001b[0m \u001b[39mself\u001b[39m\u001b[39m.\u001b[39m_tmp_in_cluster[i, j] \u001b[39m=\u001b[39m \u001b[39m1\u001b[39m\n\u001b[1;32m    206\u001b[0m \u001b[39mself\u001b[39m\u001b[39m.\u001b[39m_tmp_bfs_stack\u001b[39m.\u001b[39mappend((i, j))\n\u001b[0;32m--> 207\u001b[0m \u001b[39mreturn\u001b[39;00m \u001b[39mself\u001b[39;49m\u001b[39m.\u001b[39;49mbond_dfs(i, j)\n",
      "File \u001b[0;32m~/Library/CloudStorage/OneDrive-Personal/2023Fall/Statistical Physics 2/final_project/wolff/SIMMER/wolff/xy_model.py:192\u001b[0m, in \u001b[0;36mXYModel2DWolff.bond_dfs\u001b[0;34m(self, i, j)\u001b[0m\n\u001b[1;32m    184\u001b[0m \u001b[39m# try four different directions\u001b[39;00m\n\u001b[1;32m    186\u001b[0m \u001b[39mfor\u001b[39;00m i_neighbor, j_neighbor, hor_ver \u001b[39min\u001b[39;00m [\n\u001b[1;32m    187\u001b[0m     ((i \u001b[39m-\u001b[39m \u001b[39m1\u001b[39m) \u001b[39m%\u001b[39m \u001b[39mself\u001b[39m\u001b[39m.\u001b[39mgrid_size, j, \u001b[39m0\u001b[39m), \n\u001b[1;32m    188\u001b[0m     ((i \u001b[39m+\u001b[39m \u001b[39m1\u001b[39m) \u001b[39m%\u001b[39m \u001b[39mself\u001b[39m\u001b[39m.\u001b[39mgrid_size, j, \u001b[39m0\u001b[39m), \n\u001b[1;32m    189\u001b[0m     (i, (j \u001b[39m-\u001b[39m \u001b[39m1\u001b[39m) \u001b[39m%\u001b[39m \u001b[39mself\u001b[39m\u001b[39m.\u001b[39mgrid_size, \u001b[39m1\u001b[39m), \n\u001b[1;32m    190\u001b[0m     (i, (j \u001b[39m+\u001b[39m \u001b[39m1\u001b[39m) \u001b[39m%\u001b[39m \u001b[39mself\u001b[39m\u001b[39m.\u001b[39mgrid_size, \u001b[39m1\u001b[39m), \n\u001b[1;32m    191\u001b[0m ]:\n\u001b[0;32m--> 192\u001b[0m     \u001b[39mself\u001b[39;49m\u001b[39m.\u001b[39;49m_rec_neighbor(i_neighbor, j_neighbor, hor_ver)\n\u001b[1;32m    194\u001b[0m \u001b[39mif\u001b[39;00m \u001b[39mlen\u001b[39m(\u001b[39mself\u001b[39m\u001b[39m.\u001b[39m_tmp_bfs_stack) \u001b[39m==\u001b[39m \u001b[39m0\u001b[39m: \u001b[39m# end recursion\u001b[39;00m\n\u001b[1;32m    195\u001b[0m     \u001b[39mreturn\u001b[39;00m\n",
      "File \u001b[0;32m~/Library/CloudStorage/OneDrive-Personal/2023Fall/Statistical Physics 2/final_project/wolff/SIMMER/wolff/xy_model.py:207\u001b[0m, in \u001b[0;36mXYModel2DWolff._rec_neighbor\u001b[0;34m(self, i, j, hor_ver)\u001b[0m\n\u001b[1;32m    205\u001b[0m \u001b[39mself\u001b[39m\u001b[39m.\u001b[39m_tmp_in_cluster[i, j] \u001b[39m=\u001b[39m \u001b[39m1\u001b[39m\n\u001b[1;32m    206\u001b[0m \u001b[39mself\u001b[39m\u001b[39m.\u001b[39m_tmp_bfs_stack\u001b[39m.\u001b[39mappend((i, j))\n\u001b[0;32m--> 207\u001b[0m \u001b[39mreturn\u001b[39;00m \u001b[39mself\u001b[39;49m\u001b[39m.\u001b[39;49mbond_dfs(i, j)\n",
      "    \u001b[0;31m[... skipping similar frames: XYModel2DWolff.bond_dfs at line 192 (27 times), XYModel2DWolff._rec_neighbor at line 207 (26 times)]\u001b[0m\n",
      "File \u001b[0;32m~/Library/CloudStorage/OneDrive-Personal/2023Fall/Statistical Physics 2/final_project/wolff/SIMMER/wolff/xy_model.py:207\u001b[0m, in \u001b[0;36mXYModel2DWolff._rec_neighbor\u001b[0;34m(self, i, j, hor_ver)\u001b[0m\n\u001b[1;32m    205\u001b[0m \u001b[39mself\u001b[39m\u001b[39m.\u001b[39m_tmp_in_cluster[i, j] \u001b[39m=\u001b[39m \u001b[39m1\u001b[39m\n\u001b[1;32m    206\u001b[0m \u001b[39mself\u001b[39m\u001b[39m.\u001b[39m_tmp_bfs_stack\u001b[39m.\u001b[39mappend((i, j))\n\u001b[0;32m--> 207\u001b[0m \u001b[39mreturn\u001b[39;00m \u001b[39mself\u001b[39;49m\u001b[39m.\u001b[39;49mbond_dfs(i, j)\n",
      "File \u001b[0;32m~/Library/CloudStorage/OneDrive-Personal/2023Fall/Statistical Physics 2/final_project/wolff/SIMMER/wolff/xy_model.py:192\u001b[0m, in \u001b[0;36mXYModel2DWolff.bond_dfs\u001b[0;34m(self, i, j)\u001b[0m\n\u001b[1;32m    184\u001b[0m \u001b[39m# try four different directions\u001b[39;00m\n\u001b[1;32m    186\u001b[0m \u001b[39mfor\u001b[39;00m i_neighbor, j_neighbor, hor_ver \u001b[39min\u001b[39;00m [\n\u001b[1;32m    187\u001b[0m     ((i \u001b[39m-\u001b[39m \u001b[39m1\u001b[39m) \u001b[39m%\u001b[39m \u001b[39mself\u001b[39m\u001b[39m.\u001b[39mgrid_size, j, \u001b[39m0\u001b[39m), \n\u001b[1;32m    188\u001b[0m     ((i \u001b[39m+\u001b[39m \u001b[39m1\u001b[39m) \u001b[39m%\u001b[39m \u001b[39mself\u001b[39m\u001b[39m.\u001b[39mgrid_size, j, \u001b[39m0\u001b[39m), \n\u001b[1;32m    189\u001b[0m     (i, (j \u001b[39m-\u001b[39m \u001b[39m1\u001b[39m) \u001b[39m%\u001b[39m \u001b[39mself\u001b[39m\u001b[39m.\u001b[39mgrid_size, \u001b[39m1\u001b[39m), \n\u001b[1;32m    190\u001b[0m     (i, (j \u001b[39m+\u001b[39m \u001b[39m1\u001b[39m) \u001b[39m%\u001b[39m \u001b[39mself\u001b[39m\u001b[39m.\u001b[39mgrid_size, \u001b[39m1\u001b[39m), \n\u001b[1;32m    191\u001b[0m ]:\n\u001b[0;32m--> 192\u001b[0m     \u001b[39mself\u001b[39;49m\u001b[39m.\u001b[39;49m_rec_neighbor(i_neighbor, j_neighbor, hor_ver)\n\u001b[1;32m    194\u001b[0m \u001b[39mif\u001b[39;00m \u001b[39mlen\u001b[39m(\u001b[39mself\u001b[39m\u001b[39m.\u001b[39m_tmp_bfs_stack) \u001b[39m==\u001b[39m \u001b[39m0\u001b[39m: \u001b[39m# end recursion\u001b[39;00m\n\u001b[1;32m    195\u001b[0m     \u001b[39mreturn\u001b[39;00m\n",
      "File \u001b[0;32m~/Library/CloudStorage/OneDrive-Personal/2023Fall/Statistical Physics 2/final_project/wolff/SIMMER/wolff/xy_model.py:205\u001b[0m, in \u001b[0;36mXYModel2DWolff._rec_neighbor\u001b[0;34m(self, i, j, hor_ver)\u001b[0m\n\u001b[1;32m    200\u001b[0m \u001b[39m\u001b[39m\u001b[39m'''\u001b[39;00m\n\u001b[1;32m    201\u001b[0m \u001b[39mArguments:\u001b[39;00m\n\u001b[1;32m    202\u001b[0m \u001b[39m    hor_ver: 0 if vertical bond, 1 if horizontal bond\u001b[39;00m\n\u001b[1;32m    203\u001b[0m \u001b[39m'''\u001b[39;00m\n\u001b[1;32m    204\u001b[0m \u001b[39mif\u001b[39;00m \u001b[39mnot\u001b[39;00m \u001b[39mself\u001b[39m\u001b[39m.\u001b[39m_tmp_in_cluster[i, j] \u001b[39mand\u001b[39;00m \u001b[39mself\u001b[39m\u001b[39m.\u001b[39mget_bond()[hor_ver, i, j]:\n\u001b[0;32m--> 205\u001b[0m     \u001b[39mself\u001b[39;49m\u001b[39m.\u001b[39;49m_tmp_in_cluster[i, j] \u001b[39m=\u001b[39m \u001b[39m1\u001b[39m\n\u001b[1;32m    206\u001b[0m     \u001b[39mself\u001b[39m\u001b[39m.\u001b[39m_tmp_bfs_stack\u001b[39m.\u001b[39mappend((i, j))\n\u001b[1;32m    207\u001b[0m     \u001b[39mreturn\u001b[39;00m \u001b[39mself\u001b[39m\u001b[39m.\u001b[39mbond_dfs(i, j)\n",
      "\u001b[0;31mKeyboardInterrupt\u001b[0m: "
     ]
    }
   ],
   "source": [
    "# run and save\n",
    "\n",
    "def run_exp(L, step_num, T):\n",
    "    ising = Ising2DWolff(L, )\n",
    "    logger = wolff_algorithm(ising, 1, 1000, flip_all=False)\n",
    "    pickle.dump(logger, open(f'./save/2d_ising_model_L={L}_T={T}_step_num={step_num}.pkl', 'wb'))\n",
    "    return logger\n",
    "\n",
    "\n",
    "def load_logger(L, step_num, T):\n",
    "    logger = pickle.load(open(f'./save/2d_ising_model_L={L}_T={T}_step_num={step_num}.pkl', 'rb'))\n",
    "    return logger\n",
    "\n",
    "\n",
    "for T in np.linspace(0.1, 2, 100):\n",
    "    for L in [5, 10, 20]:\n",
    "        run_exp(L, 1000, T)"
   ]
  },
  {
   "cell_type": "code",
   "execution_count": null,
   "metadata": {},
   "outputs": [],
   "source": [
    "\n",
    "fig, ax = plt.subplots(1, 1)\n",
    "ax.plot(logger.states[:, 0, :, :].mean((-1, -2)))"
   ]
  }
 ],
 "metadata": {
  "kernelspec": {
   "display_name": "gnn",
   "language": "python",
   "name": "python3"
  },
  "language_info": {
   "codemirror_mode": {
    "name": "ipython",
    "version": 3
   },
   "file_extension": ".py",
   "mimetype": "text/x-python",
   "name": "python",
   "nbconvert_exporter": "python",
   "pygments_lexer": "ipython3",
   "version": "3.9.17"
  }
 },
 "nbformat": 4,
 "nbformat_minor": 2
}
