{
 "cells": [
  {
   "cell_type": "code",
   "execution_count": 9,
   "metadata": {},
   "outputs": [
    {
     "name": "stdout",
     "output_type": "stream",
     "text": [
      "The autoreload extension is already loaded. To reload it, use:\n",
      "  %reload_ext autoreload\n"
     ]
    },
    {
     "ename": "TypeError",
     "evalue": "randint() received an invalid combination of arguments - got (int), but expected one of:\n * (int high, tuple of ints size, *, torch.Generator generator, Tensor out, torch.dtype dtype, torch.layout layout, torch.device device, bool pin_memory, bool requires_grad)\n * (int high, tuple of ints size, *, Tensor out, torch.dtype dtype, torch.layout layout, torch.device device, bool pin_memory, bool requires_grad)\n * (int low, int high, tuple of ints size, *, torch.Generator generator, Tensor out, torch.dtype dtype, torch.layout layout, torch.device device, bool pin_memory, bool requires_grad)\n * (int low, int high, tuple of ints size, *, Tensor out, torch.dtype dtype, torch.layout layout, torch.device device, bool pin_memory, bool requires_grad)\n",
     "output_type": "error",
     "traceback": [
      "\u001b[0;31m---------------------------------------------------------------------------\u001b[0m",
      "\u001b[0;31mTypeError\u001b[0m                                 Traceback (most recent call last)",
      "\u001b[1;32m/Users/ruiqi/Library/CloudStorage/OneDrive-Personal/2023Fall/Statistical Physics 2/final_project/wolff/SIMMER/wolff/experiment.ipynb Cell 1\u001b[0m line \u001b[0;36m1\n\u001b[1;32m     <a href='vscode-notebook-cell:/Users/ruiqi/Library/CloudStorage/OneDrive-Personal/2023Fall/Statistical%20Physics%202/final_project/wolff/SIMMER/wolff/experiment.ipynb#W0sZmlsZQ%3D%3D?line=13'>14</a>\u001b[0m np\u001b[39m.\u001b[39mrandom\u001b[39m.\u001b[39mseed(seed)\n\u001b[1;32m     <a href='vscode-notebook-cell:/Users/ruiqi/Library/CloudStorage/OneDrive-Personal/2023Fall/Statistical%20Physics%202/final_project/wolff/SIMMER/wolff/experiment.ipynb#W0sZmlsZQ%3D%3D?line=16'>17</a>\u001b[0m xy \u001b[39m=\u001b[39m XYModel2DWolff(grid_size, )\n\u001b[0;32m---> <a href='vscode-notebook-cell:/Users/ruiqi/Library/CloudStorage/OneDrive-Personal/2023Fall/Statistical%20Physics%202/final_project/wolff/SIMMER/wolff/experiment.ipynb#W0sZmlsZQ%3D%3D?line=17'>18</a>\u001b[0m wolff_algorithm(xy, \u001b[39m1\u001b[39;49m, \u001b[39m1\u001b[39;49m)\n",
      "File \u001b[0;32m~/Library/CloudStorage/OneDrive-Personal/2023Fall/Statistical Physics 2/final_project/wolff/SIMMER/wolff/monte_carlo.py:48\u001b[0m, in \u001b[0;36mwolff_algorithm\u001b[0;34m(xy_model, temperature, num_steps, stamp_interval, logger)\u001b[0m\n\u001b[1;32m     45\u001b[0m xy_model\u001b[39m.\u001b[39mupdate_bond(nW\u001b[39m=\u001b[39mnW, beta\u001b[39m=\u001b[39m\u001b[39m1\u001b[39m \u001b[39m/\u001b[39m temperature)\n\u001b[1;32m     47\u001b[0m \u001b[39m# select one cluster according to the bond\u001b[39;00m\n\u001b[0;32m---> 48\u001b[0m xy_model\u001b[39m.\u001b[39;49mflip(nW\u001b[39m=\u001b[39;49mnW, flip_one_cluster\u001b[39m=\u001b[39;49m\u001b[39mTrue\u001b[39;49;00m)\n\u001b[1;32m     50\u001b[0m \u001b[39mif\u001b[39;00m step \u001b[39m%\u001b[39m stamp_interval \u001b[39m==\u001b[39m \u001b[39m0\u001b[39m:\n\u001b[1;32m     51\u001b[0m     logger\u001b[39m.\u001b[39mlog(step \u001b[39m+\u001b[39m step_offset, xy_model\u001b[39m.\u001b[39mget_state()\u001b[39m.\u001b[39mclone()\u001b[39m.\u001b[39mcpu())\n",
      "File \u001b[0;32m~/Library/CloudStorage/OneDrive-Personal/2023Fall/Statistical Physics 2/final_project/wolff/SIMMER/wolff/xy_model.py:129\u001b[0m, in \u001b[0;36mXYModel2DWolff.flip\u001b[0;34m(self, nW, flip_one_cluster)\u001b[0m\n\u001b[1;32m    119\u001b[0m \u001b[39m\u001b[39m\u001b[39m'''\u001b[39;00m\n\u001b[1;32m    120\u001b[0m \u001b[39mConstructs clusters based on the calculated bond, and then flips the\u001b[39;00m\n\u001b[1;32m    121\u001b[0m \u001b[39mspin w.r.t. the Wolff plane.\u001b[39;00m\n\u001b[0;32m   (...)\u001b[0m\n\u001b[1;32m    125\u001b[0m \u001b[39m    flip_one_cluster: if True, in each iteration, only flip one cluster.\u001b[39;00m\n\u001b[1;32m    126\u001b[0m \u001b[39m'''\u001b[39;00m\n\u001b[1;32m    128\u001b[0m \u001b[39mif\u001b[39;00m flip_one_cluster:\n\u001b[0;32m--> 129\u001b[0m     \u001b[39mself\u001b[39;49m\u001b[39m.\u001b[39;49mflip_one_cluster(nW)\n\u001b[1;32m    130\u001b[0m \u001b[39melse\u001b[39;00m:\n\u001b[1;32m    131\u001b[0m     \u001b[39mraise\u001b[39;00m \u001b[39mNotImplementedError\u001b[39;00m\n",
      "File \u001b[0;32m~/Library/CloudStorage/OneDrive-Personal/2023Fall/Statistical Physics 2/final_project/wolff/SIMMER/wolff/xy_model.py:135\u001b[0m, in \u001b[0;36mXYModel2DWolff.flip_one_cluster\u001b[0;34m(self, nW, debug)\u001b[0m\n\u001b[1;32m    133\u001b[0m \u001b[39mdef\u001b[39;00m \u001b[39mflip_one_cluster\u001b[39m(\u001b[39mself\u001b[39m, nW, debug\u001b[39m=\u001b[39m\u001b[39mFalse\u001b[39;00m):\n\u001b[1;32m    134\u001b[0m     \u001b[39m# randomly sample a starting point (a cluster)\u001b[39;00m\n\u001b[0;32m--> 135\u001b[0m     i, j \u001b[39m=\u001b[39m torch\u001b[39m.\u001b[39;49mrandint(\u001b[39mself\u001b[39;49m\u001b[39m.\u001b[39;49mstate\u001b[39m.\u001b[39;49mshape[\u001b[39m-\u001b[39;49m\u001b[39m1\u001b[39;49m]), torch\u001b[39m.\u001b[39mrandint(\u001b[39mself\u001b[39m\u001b[39m.\u001b[39mstate\u001b[39m.\u001b[39mshape[\u001b[39m-\u001b[39m\u001b[39m1\u001b[39m])\n\u001b[1;32m    136\u001b[0m     \u001b[39m# reset the used flag matrix before recursion\u001b[39;00m\n\u001b[1;32m    137\u001b[0m     \u001b[39mself\u001b[39m\u001b[39m.\u001b[39m_tmp_in_cluster \u001b[39m=\u001b[39m \u001b[39m0\u001b[39m\n",
      "\u001b[0;31mTypeError\u001b[0m: randint() received an invalid combination of arguments - got (int), but expected one of:\n * (int high, tuple of ints size, *, torch.Generator generator, Tensor out, torch.dtype dtype, torch.layout layout, torch.device device, bool pin_memory, bool requires_grad)\n * (int high, tuple of ints size, *, Tensor out, torch.dtype dtype, torch.layout layout, torch.device device, bool pin_memory, bool requires_grad)\n * (int low, int high, tuple of ints size, *, torch.Generator generator, Tensor out, torch.dtype dtype, torch.layout layout, torch.device device, bool pin_memory, bool requires_grad)\n * (int low, int high, tuple of ints size, *, Tensor out, torch.dtype dtype, torch.layout layout, torch.device device, bool pin_memory, bool requires_grad)\n"
     ]
    }
   ],
   "source": [
    "%load_ext autoreload\n",
    "%autoreload 2\n",
    "import numpy as np\n",
    "import torch\n",
    "\n",
    "from monte_carlo import wolff_algorithm\n",
    "from xy_model import XYModel2DWolff\n",
    "\n",
    "seed = 0\n",
    "grid_size = 10\n",
    "\n",
    "torch.cuda.manual_seed(seed)\n",
    "torch.manual_seed(seed)\n",
    "np.random.seed(seed)\n",
    "\n",
    "\n",
    "xy = XYModel2DWolff(grid_size, )\n",
    "wolff_algorithm(xy, 1, 1)"
   ]
  },
  {
   "cell_type": "code",
   "execution_count": null,
   "metadata": {},
   "outputs": [],
   "source": []
  }
 ],
 "metadata": {
  "kernelspec": {
   "display_name": "gnn",
   "language": "python",
   "name": "python3"
  },
  "language_info": {
   "codemirror_mode": {
    "name": "ipython",
    "version": 3
   },
   "file_extension": ".py",
   "mimetype": "text/x-python",
   "name": "python",
   "nbconvert_exporter": "python",
   "pygments_lexer": "ipython3",
   "version": "3.9.17"
  }
 },
 "nbformat": 4,
 "nbformat_minor": 2
}
